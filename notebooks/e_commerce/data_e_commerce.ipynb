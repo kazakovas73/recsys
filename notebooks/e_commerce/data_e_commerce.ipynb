{
 "cells": [
  {
   "cell_type": "code",
   "execution_count": 3,
   "metadata": {},
   "outputs": [],
   "source": [
    "import numpy as np\n",
    "import pandas as pd\n",
    "from pathlib import Path\n",
    "\n",
    "data_path = Path('../data/')"
   ]
  },
  {
   "cell_type": "code",
   "execution_count": 4,
   "metadata": {},
   "outputs": [
    {
     "name": "stdout",
     "output_type": "stream",
     "text": [
      "number of lines in train: 12_899_779\n",
      "number of chunks: 129\n"
     ]
    }
   ],
   "source": [
    "num_lines = sum(1 for line in open(data_path / 'train.jsonl'))\n",
    "print(f'number of lines in train: {num_lines:_}')\n",
    "\n",
    "chunksize = 100_000\n",
    "num_chunks = int(np.ceil(num_lines / 100_000))\n",
    "print(f'number of chunks: {num_chunks:_}')"
   ]
  },
  {
   "cell_type": "code",
   "execution_count": 5,
   "metadata": {},
   "outputs": [],
   "source": [
    "n = 2\n",
    "train_sessions = pd.DataFrame()\n",
    "chunks = pd.read_json(data_path / 'train.jsonl', lines=True, chunksize=chunksize)\n",
    "\n",
    "for e, chunk in enumerate(chunks):\n",
    "    if e < 2:\n",
    "        train_sessions = pd.concat([train_sessions, chunk])\n",
    "    else:\n",
    "        break\n",
    "train_sessions = train_sessions.set_index('session', drop=True).sort_index()"
   ]
  },
  {
   "cell_type": "code",
   "execution_count": 6,
   "metadata": {},
   "outputs": [
    {
     "data": {
      "text/html": [
       "<div>\n",
       "<style scoped>\n",
       "    .dataframe tbody tr th:only-of-type {\n",
       "        vertical-align: middle;\n",
       "    }\n",
       "\n",
       "    .dataframe tbody tr th {\n",
       "        vertical-align: top;\n",
       "    }\n",
       "\n",
       "    .dataframe thead th {\n",
       "        text-align: right;\n",
       "    }\n",
       "</style>\n",
       "<table border=\"1\" class=\"dataframe\">\n",
       "  <thead>\n",
       "    <tr style=\"text-align: right;\">\n",
       "      <th></th>\n",
       "      <th>events</th>\n",
       "    </tr>\n",
       "    <tr>\n",
       "      <th>session</th>\n",
       "      <th></th>\n",
       "    </tr>\n",
       "  </thead>\n",
       "  <tbody>\n",
       "    <tr>\n",
       "      <th>0</th>\n",
       "      <td>[{'aid': 1517085, 'ts': 1659304800025, 'type':...</td>\n",
       "    </tr>\n",
       "    <tr>\n",
       "      <th>1</th>\n",
       "      <td>[{'aid': 424964, 'ts': 1659304800025, 'type': ...</td>\n",
       "    </tr>\n",
       "    <tr>\n",
       "      <th>2</th>\n",
       "      <td>[{'aid': 763743, 'ts': 1659304800038, 'type': ...</td>\n",
       "    </tr>\n",
       "    <tr>\n",
       "      <th>3</th>\n",
       "      <td>[{'aid': 1425967, 'ts': 1659304800095, 'type':...</td>\n",
       "    </tr>\n",
       "    <tr>\n",
       "      <th>4</th>\n",
       "      <td>[{'aid': 613619, 'ts': 1659304800119, 'type': ...</td>\n",
       "    </tr>\n",
       "    <tr>\n",
       "      <th>...</th>\n",
       "      <td>...</td>\n",
       "    </tr>\n",
       "    <tr>\n",
       "      <th>199995</th>\n",
       "      <td>[{'aid': 1384304, 'ts': 1659336223762, 'type':...</td>\n",
       "    </tr>\n",
       "    <tr>\n",
       "      <th>199996</th>\n",
       "      <td>[{'aid': 381361, 'ts': 1659336223803, 'type': ...</td>\n",
       "    </tr>\n",
       "    <tr>\n",
       "      <th>199997</th>\n",
       "      <td>[{'aid': 1401230, 'ts': 1659336223845, 'type':...</td>\n",
       "    </tr>\n",
       "    <tr>\n",
       "      <th>199998</th>\n",
       "      <td>[{'aid': 743485, 'ts': 1659336223992, 'type': ...</td>\n",
       "    </tr>\n",
       "    <tr>\n",
       "      <th>199999</th>\n",
       "      <td>[{'aid': 228476, 'ts': 1659336224040, 'type': ...</td>\n",
       "    </tr>\n",
       "  </tbody>\n",
       "</table>\n",
       "<p>200000 rows × 1 columns</p>\n",
       "</div>"
      ],
      "text/plain": [
       "                                                    events\n",
       "session                                                   \n",
       "0        [{'aid': 1517085, 'ts': 1659304800025, 'type':...\n",
       "1        [{'aid': 424964, 'ts': 1659304800025, 'type': ...\n",
       "2        [{'aid': 763743, 'ts': 1659304800038, 'type': ...\n",
       "3        [{'aid': 1425967, 'ts': 1659304800095, 'type':...\n",
       "4        [{'aid': 613619, 'ts': 1659304800119, 'type': ...\n",
       "...                                                    ...\n",
       "199995   [{'aid': 1384304, 'ts': 1659336223762, 'type':...\n",
       "199996   [{'aid': 381361, 'ts': 1659336223803, 'type': ...\n",
       "199997   [{'aid': 1401230, 'ts': 1659336223845, 'type':...\n",
       "199998   [{'aid': 743485, 'ts': 1659336223992, 'type': ...\n",
       "199999   [{'aid': 228476, 'ts': 1659336224040, 'type': ...\n",
       "\n",
       "[200000 rows x 1 columns]"
      ]
     },
     "execution_count": 6,
     "metadata": {},
     "output_type": "execute_result"
    }
   ],
   "source": [
    "train_sessions"
   ]
  },
  {
   "cell_type": "code",
   "execution_count": 16,
   "metadata": {},
   "outputs": [],
   "source": [
    "example_events = train_sessions.events[0]"
   ]
  },
  {
   "cell_type": "markdown",
   "metadata": {},
   "source": [
    "## Count emb sizes"
   ]
  },
  {
   "cell_type": "code",
   "execution_count": 18,
   "metadata": {},
   "outputs": [
    {
     "name": "stdout",
     "output_type": "stream",
     "text": [
      "Aids in dataset: 951294\n"
     ]
    }
   ],
   "source": [
    "aid_set = set()\n",
    "for event in train_sessions.events:\n",
    "    for item in event:\n",
    "        aid_set.add(item['aid'])\n",
    "print(f\"Aids in dataset: {len(aid_set)}\")"
   ]
  },
  {
   "cell_type": "code",
   "execution_count": null,
   "metadata": {},
   "outputs": [],
   "source": []
  },
  {
   "cell_type": "code",
   "execution_count": 17,
   "metadata": {},
   "outputs": [],
   "source": [
    "import torch"
   ]
  },
  {
   "cell_type": "code",
   "execution_count": null,
   "metadata": {},
   "outputs": [],
   "source": [
    "aid_emb = torch.nn.Embedding()"
   ]
  },
  {
   "cell_type": "code",
   "execution_count": null,
   "metadata": {},
   "outputs": [],
   "source": []
  }
 ],
 "metadata": {
  "kernelspec": {
   "display_name": "base",
   "language": "python",
   "name": "python3"
  },
  "language_info": {
   "codemirror_mode": {
    "name": "ipython",
    "version": 3
   },
   "file_extension": ".py",
   "mimetype": "text/x-python",
   "name": "python",
   "nbconvert_exporter": "python",
   "pygments_lexer": "ipython3",
   "version": "3.11.5"
  }
 },
 "nbformat": 4,
 "nbformat_minor": 2
}
